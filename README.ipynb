{
 "cells": [
  {
   "cell_type": "markdown",
   "metadata": {},
   "source": [
    "\n",
    "## Udacity SDCND - Term 2: MPC Project ##\n",
    "\n",
    "### I. The Model\n",
    "\n",
    "I have used **classroom model**.\n",
    "\n",
    "i. State\n",
    " - x: position in x direction\n",
    " - y: position in y direction\n",
    " - psi: steering angle\n",
    " - v: velocity of the car\n",
    " - cte: cross-track error along the y axis\n",
    " - epsi: error in the steering angle\n",
    " \n",
    "ii. Actuators\n",
    " - delta:  applied steering angle\n",
    " - a:  applied throttle\n",
    " \n",
    "iii. Update Equations\n",
    " - x<sub>t</sub> = x<sub>t-1</sub> \\* v<sub>t-1</sub> \\* cos(psi<sub>t-1</sub>) \\* dt\n",
    " -  y<sub>t</sub> = y<sub>t-1</sub> \\* v<sub>t-1</sub> \\* sin(psi<sub>t-1</sub>) \\* dt\n",
    " -  psi<sub>t</sub> = psi<sub>t-1</sub> + (v<sub>t-1</sub>/Lf) \\* delta<sub>t-1</sub> \\* dt\n",
    " -  v<sub>t</sub> = v<sub>t-1</sub> + a<sub>t-1</sub> + dt\n",
    " -  cte<sub>t</sub> = (f<sub>t-1</sub> - y<sub>t-1</sub>) + (v<sub>t-1</sub> \\* sin(epsi<sub>t-1</sub>) \\* dt)\n",
    " -  epsi<sub>t</sub> = ((psi<sub>t-1</sub> - psides<sub>t-1</sub>) - ((v<sub>t-1</sub>/Lf) \\* delta<sub>t-1</sub> \\* dt))\n",
    "\n",
    "**f** is the value of the 3rd degree polynomial representing the reference line at the current value of x.  \n",
    "**psides** is the desired psi, which is the tangential angle of the derivative of the polynomial at that point.\n",
    "\n",
    "### II. Timestep Length and Elapsed Duration\n",
    "\n",
    "The final values chosen are **N=10** and **dt=0.1**.\n",
    "\n",
    "If the value of N is too small, we cannot predict the future well. If value is too large then we may plan for a long future which not be what we are expecting. The values for N and dt are 10 and 0.1 respectively. These values were just a part of hit and trial process. I tested with 7/0.5; 9,0.25; 18,0.05 also in order to fix 10 and 0.1.\n",
    "\n",
    "### III. Polynomial Fitting\n",
    "\n",
    "The waypoint co-ordinates received from the simulator are first converted into cars co-ordinate system where car is the origin, I have done it in `Main.cpp::Lines 104 - 114`.  \n",
    "The converted co-ordinates are fit to a polynomial at `Main.cpp::Lines 124` using the polyfit method.\n",
    "\n",
    "### IV. Model Predictive Control with Latency\n",
    "\n",
    "In order to account for the 100 ms latency, the initial state of the car supplied by the simulator is updated using the same model descibed above.   \n",
    "Here, the **latency** period is used as the time gap **dt**.\n",
    "\n",
    "Below is the code block from `Main.cpp`.\n",
    "\n",
    "```cpp\n",
    "const double current_px = 0.0 + v * act_latency;\n",
    "const double current_py = 0.0;\n",
    "const double current_psi = 0.0 + v * (-delta) / Lf * act_latency;\n",
    "const double current_v = v + a * act_latency;\n",
    "const double current_cte = cte + v * sin(epsi) * act_latency;\n",
    "const double current_epsi = epsi + v * (-delta) / Lf * act_latency;\n",
    "```\n"
   ]
  },
  {
   "cell_type": "code",
   "execution_count": null,
   "metadata": {},
   "outputs": [],
   "source": []
  }
 ],
 "metadata": {
  "kernelspec": {
   "display_name": "Python 3",
   "language": "python",
   "name": "python3"
  },
  "language_info": {
   "codemirror_mode": {
    "name": "ipython",
    "version": 3
   },
   "file_extension": ".py",
   "mimetype": "text/x-python",
   "name": "python",
   "nbconvert_exporter": "python",
   "pygments_lexer": "ipython3",
   "version": "3.5.2"
  },
  "widgets": {
   "state": {},
   "version": "1.1.2"
  }
 },
 "nbformat": 4,
 "nbformat_minor": 2
}
